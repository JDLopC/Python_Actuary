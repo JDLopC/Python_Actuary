{
 "cells": [
  {
   "cell_type": "markdown",
   "metadata": {},
   "source": [
    "# Craps Game\n",
    "## Instrucciones\n",
    "En este juego, una persona tira un par de dados. Si en el primer tiro de los dados, el\n",
    "resultado es 7 u 11, el jugador gana y termina el juego. Si en el primer tiro, el resultado es\n",
    "2, 3 o 12, el jugador pierde y termina el juego. En caso de que en el primer tiro de los dados\n",
    "el resultado sea 4, 5, 6, 8, 9 o 10, entonces el juego no termina. A este primer resultado se\n",
    "le llama el n´umero del jugador. Por ejemplo, si en el primer tiro el resultado es M = 6, el\n",
    "n´umero del jugador es 6. Ahora, el jugador debe lanzar los dados hasta que el resultado del\n",
    "tiro de los dados sea M o bien 7, lo que aparezca primero. Si sale primero M, el jugador\n",
    "gana y termina el juego. En caso de que salga el 7, antes de que vuelva a salir M, entonces el\n",
    "jugador pierde, y termina el juego.\n"
   ]
  },
  {
   "cell_type": "code",
   "execution_count": 1,
   "metadata": {},
   "outputs": [],
   "source": [
    "import numpy as np"
   ]
  },
  {
   "cell_type": "code",
   "execution_count": 2,
   "metadata": {},
   "outputs": [],
   "source": [
    "def craps_game():\n",
    "    M = np.random.randint(1,6) + np.random.randint(1,6)\n",
    "    i = 1\n",
    "    \n",
    "    if M in [7,11]:\n",
    "        return [i, True]\n",
    "    if M in [2,3,12]:\n",
    "        return [i, False]\n",
    "    \n",
    "    \n",
    "    \n",
    "    while True:\n",
    "        tiro = np.random.randint(1,6) + np.random.randint(1,6)\n",
    "        i+=1\n",
    "        if tiro == M:\n",
    "            return [i, True]\n",
    "        if tiro == 7:\n",
    "            return [i, False]"
   ]
  },
  {
   "cell_type": "code",
   "execution_count": 15,
   "metadata": {},
   "outputs": [
    {
     "data": {
      "text/plain": [
       "[[2, False],\n",
       " [9, True],\n",
       " [1, True],\n",
       " [3, True],\n",
       " [2, True],\n",
       " [2, True],\n",
       " [2, True],\n",
       " [5, False],\n",
       " [2, False],\n",
       " [1, False]]"
      ]
     },
     "execution_count": 15,
     "metadata": {},
     "output_type": "execute_result"
    }
   ],
   "source": [
    "sims = []\n",
    "for i in range(10):\n",
    "    sims.append(craps_game())\n",
    "sims"
   ]
  }
 ],
 "metadata": {
  "kernelspec": {
   "display_name": "Python 3.11.0 64-bit",
   "language": "python",
   "name": "python3"
  },
  "language_info": {
   "codemirror_mode": {
    "name": "ipython",
    "version": 3
   },
   "file_extension": ".py",
   "mimetype": "text/x-python",
   "name": "python",
   "nbconvert_exporter": "python",
   "pygments_lexer": "ipython3",
   "version": "3.11.0"
  },
  "orig_nbformat": 4,
  "vscode": {
   "interpreter": {
    "hash": "a05046b0517d358bd4b0fe132297b5dbd3ac450bd8298a6b74770b2d15a72bb3"
   }
  }
 },
 "nbformat": 4,
 "nbformat_minor": 2
}
