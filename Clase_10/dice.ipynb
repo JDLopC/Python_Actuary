{
 "cells": [
  {
   "cell_type": "markdown",
   "metadata": {},
   "source": [
    "#"
   ]
  },
  {
   "cell_type": "markdown",
   "metadata": {},
   "source": [
    "## Instrucciones\n",
    "Para entrar al juego Rocketdice paga $2.\n",
    "1) Se saca una pelotita a de una esfera, ésta tiene 100 pelotitas numeradas del 1 al 100. Si \n",
    "el número es menor a 23, a usted se le entregan cero pesos. Si el número es mayor a \n",
    "90, le entregan $4 pesos. En cualquiera de estos dos casos. El juego termina. En caso \n",
    "contrario continua con la segunda parte (paso 2).\n",
    "2) Ahora, usted lanza un dado de 20 caras. \n",
    "a. Si el número es par, se le entregan $2. Y el juego termina\n",
    "b. Si el número es 3, 5, 7, 11, 13, 17 o 19, se le entregan $5. Y el juego termina.\n",
    "c. Si el número es alguno de los restantes, es decir, 1, 9 o 15. Ahora, se le pide \n",
    "lanzar un dado de seis caras. Si el resultado de éste es 1, 2, 3 o 4, le entregan\n",
    "$6. Y el juego termina. Pero, en caso de que el resultado sea 5 o 6, usted debe \n",
    "pagar $2, adicionales a los que pagó al inicio. Y el juego termina."
   ]
  },
  {
   "cell_type": "code",
   "execution_count": 229,
   "metadata": {},
   "outputs": [],
   "source": [
    "import numpy as np"
   ]
  },
  {
   "cell_type": "markdown",
   "metadata": {},
   "source": [
    "## Función uqe hace una simulación"
   ]
  },
  {
   "cell_type": "code",
   "execution_count": 230,
   "metadata": {},
   "outputs": [],
   "source": [
    "def Rocketdice():\n",
    "    ganancia = -2\n",
    "    \n",
    "    pelota = np.random.randint(1,100)\n",
    "    \n",
    "    if pelota < 23:\n",
    "        return ganancia\n",
    "    if pelota>90:\n",
    "        ganancia += 4\n",
    "        return ganancia\n",
    "    # la pelota esta entre 23 y 90\n",
    "    \n",
    "    dado20 = np.random.randint(1,20)\n",
    "    \n",
    "    if dado20 % 2 == 0:\n",
    "        ganancia += 2\n",
    "        return ganancia\n",
    "\n",
    "    if dado20 in [3, 5, 7, 11, 13, 17, 19]:\n",
    "        ganancia += 5\n",
    "        return ganancia\n",
    "    \n",
    "    dado6 = np.random.randint(1,6)\n",
    "    \n",
    "    if dado6 <= 4:\n",
    "        ganancia +=6\n",
    "        return ganancia\n",
    "    \n",
    "    ganancia -= 2\n",
    "    return ganancia"
   ]
  },
  {
   "cell_type": "markdown",
   "metadata": {},
   "source": [
    "Simulando el juego n veces"
   ]
  },
  {
   "cell_type": "code",
   "execution_count": 231,
   "metadata": {},
   "outputs": [
    {
     "data": {
      "text/plain": [
       "0.75302"
      ]
     },
     "execution_count": 231,
     "metadata": {},
     "output_type": "execute_result"
    }
   ],
   "source": [
    "NUM_SIMS = 100000\n",
    "resultados = []\n",
    "\n",
    "for i in range(NUM_SIMS):\n",
    "    resultados.append(Rocketdice())\n",
    "\n",
    "resultados = np.array(resultados)\n",
    "resultados.mean()"
   ]
  }
 ],
 "metadata": {
  "kernelspec": {
   "display_name": "Python 3.11.0 64-bit",
   "language": "python",
   "name": "python3"
  },
  "language_info": {
   "codemirror_mode": {
    "name": "ipython",
    "version": 3
   },
   "file_extension": ".py",
   "mimetype": "text/x-python",
   "name": "python",
   "nbconvert_exporter": "python",
   "pygments_lexer": "ipython3",
   "version": "3.11.0"
  },
  "orig_nbformat": 4,
  "vscode": {
   "interpreter": {
    "hash": "a05046b0517d358bd4b0fe132297b5dbd3ac450bd8298a6b74770b2d15a72bb3"
   }
  }
 },
 "nbformat": 4,
 "nbformat_minor": 2
}
